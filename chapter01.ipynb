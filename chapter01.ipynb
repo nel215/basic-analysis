{
 "cells": [
  {
   "cell_type": "code",
   "execution_count": 1,
   "metadata": {
    "collapsed": false
   },
   "outputs": [],
   "source": [
    "%load_ext autoreload\n",
    "%autoreload 2\n",
    "%matplotlib inline"
   ]
  },
  {
   "cell_type": "code",
   "execution_count": 2,
   "metadata": {
    "collapsed": false
   },
   "outputs": [
    {
     "name": "stdout",
     "output_type": "stream",
     "text": [
      "histogram of area: [10  5  2  2  1]\n",
      "edges of area: [  15.   168.6  322.2  475.8  629.4  783. ]\n"
     ]
    },
    {
     "data": {
      "text/plain": [
       "array([[<matplotlib.axes._subplots.AxesSubplot object at 0x107ba1110>]], dtype=object)"
      ]
     },
     "execution_count": 2,
     "metadata": {},
     "output_type": "execute_result"
    },
    {
     "data": {
      "image/png": "[encoded data removed]",
      "text/plain": [
       "<matplotlib.figure.Figure at 0x107b09a90>"
      ]
     },
     "metadata": {},
     "output_type": "display_data"
    }
   ],
   "source": [
    "# 2-a\n",
    "import math\n",
    "import pandas as pd\n",
    "import numpy as np\n",
    "from StringIO import StringIO\n",
    "\n",
    "df = pd.read_csv('./problem-1-2.csv')\n",
    "\n",
    "bins = int(math.sqrt(len(df))+1)\n",
    "hist, edges = np.histogram(df['area'], bins=bins)\n",
    "print 'histogram of area:', hist\n",
    "print 'edges of area:', edges\n",
    "df.hist('area', bins=bins)"
   ]
  },
  {
   "cell_type": "code",
   "execution_count": 3,
   "metadata": {
    "collapsed": false
   },
   "outputs": [
    {
     "name": "stdout",
     "output_type": "stream",
     "text": [
      "mean of sales: 581.95\n",
      "var of sales: 596000.471053\n",
      "std of sales: 772.010667706\n",
      "cv of sales: 1.32659277894\n",
      "mean of area: 222.85\n",
      "var of area: 45903.8184211\n",
      "std of area: 214.251764103\n",
      "cv of area: 0.961416935618\n"
     ]
    }
   ],
   "source": [
    "# 2-b\n",
    "for attr in ['sales', 'area']:\n",
    "    print 'mean of %s:' % (attr), df[attr].mean()\n",
    "    print 'var of %s:' % (attr), df[attr].var()\n",
    "    print 'std of %s:' % (attr), df[attr].std()\n",
    "    print 'cv of %s:' % (attr), df[attr].std()/df[attr].mean()"
   ]
  },
  {
   "cell_type": "code",
   "execution_count": 4,
   "metadata": {
    "collapsed": false
   },
   "outputs": [
    {
     "data": {
      "text/html": [
       "<div>\n",
       "<table border=\"1\" class=\"dataframe\">\n",
       "  <thead>\n",
       "    <tr style=\"text-align: right;\">\n",
       "      <th></th>\n",
       "      <th>no</th>\n",
       "      <th>sales</th>\n",
       "      <th>area</th>\n",
       "    </tr>\n",
       "  </thead>\n",
       "  <tbody>\n",
       "    <tr>\n",
       "      <th>no</th>\n",
       "      <td>1.000000</td>\n",
       "      <td>0.176006</td>\n",
       "      <td>0.302557</td>\n",
       "    </tr>\n",
       "    <tr>\n",
       "      <th>sales</th>\n",
       "      <td>0.176006</td>\n",
       "      <td>1.000000</td>\n",
       "      <td>0.840888</td>\n",
       "    </tr>\n",
       "    <tr>\n",
       "      <th>area</th>\n",
       "      <td>0.302557</td>\n",
       "      <td>0.840888</td>\n",
       "      <td>1.000000</td>\n",
       "    </tr>\n",
       "  </tbody>\n",
       "</table>\n",
       "</div>"
      ],
      "text/plain": [
       "             no     sales      area\n",
       "no     1.000000  0.176006  0.302557\n",
       "sales  0.176006  1.000000  0.840888\n",
       "area   0.302557  0.840888  1.000000"
      ]
     },
     "execution_count": 4,
     "metadata": {},
     "output_type": "execute_result"
    }
   ],
   "source": [
    "# 2-c\n",
    "df.corr()"
   ]
  },
  {
   "cell_type": "code",
   "execution_count": 5,
   "metadata": {
    "collapsed": false
   },
   "outputs": [
    {
     "name": "stdout",
     "output_type": "stream",
     "text": [
      "mean of a: 4.5 b: 20.25\n",
      "gmean of a: 4.09062348924 b: 7.27427152513\n"
     ]
    }
   ],
   "source": [
    "# 3\n",
    "from scipy.stats import gmean\n",
    "a, b = [2, 4, 5, 7], [2, 4, 5, 70]\n",
    "print 'mean of a:', np.mean(a), 'b:', np.mean(b)\n",
    "print 'gmean of a:', gmean(a), 'b:', gmean(b)"
   ]
  }
 ],
 "metadata": {
  "kernelspec": {
   "display_name": "Python 2",
   "language": "python",
   "name": "python2"
  },
  "language_info": {
   "codemirror_mode": {
    "name": "ipython",
    "version": 2
   },
   "file_extension": ".py",
   "mimetype": "text/x-python",
   "name": "python",
   "nbconvert_exporter": "python",
   "pygments_lexer": "ipython2",
   "version": "2.7.10"
  }
 },
 "nbformat": 4,
 "nbformat_minor": 0
}
